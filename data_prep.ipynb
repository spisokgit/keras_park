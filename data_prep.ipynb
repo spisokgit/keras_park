{
 "cells": [
  {
   "cell_type": "code",
   "execution_count": 3,
   "metadata": {},
   "outputs": [
    {
     "name": "stdout",
     "output_type": "stream",
     "text": [
      "Writing train to /tf/keraspark/Deep-Learning-Quick-Reference-master/Chapter02/data/train/train_data.csv Shape:(3918, 12)\n",
      "Writing val to /tf/keraspark/Deep-Learning-Quick-Reference-master/Chapter02/data/val/val_data.csv Shape:(490, 12)\n",
      "Writing test to /tf/keraspark/Deep-Learning-Quick-Reference-master/Chapter02/data/test/test_data.csv Shape:(490, 12)\n"
     ]
    }
   ],
   "source": [
    "# Deep Learning Quick Reference Chapter 2: Using Deep Learning To Solve Regression Problems\n",
    "# Mike Bernico <mike.bernico@gmail.com>\n",
    "# Data prep code - Creates train/val/test split for winequality-white.csv\n",
    "# NOTE: The reader should not need to run this.\n",
    "\n",
    "import pandas as pd\n",
    "from sklearn.model_selection import train_test_split\n",
    "import os\n",
    "import random\n",
    "random.seed = 42\n",
    "\n",
    "\n",
    "def safe_create_directory(dir_name):\n",
    "    if not os.path.isdir((os.path.join(os.getcwd(), \"data\", dir_name))):\n",
    "        os.mkdir(os.path.join(os.getcwd(), \"data\", dir_name))\n",
    "\n",
    "\n",
    "def create_data_dirs():\n",
    "    [safe_create_directory(dir) for dir in [\"train\", \"val\", \"test\"]]\n",
    "\n",
    "\n",
    "def train_val_test_split(df, val_pct=0.1, test_pct=0.1):\n",
    "    size = df.shape[0]\n",
    "    val_pct = (val_pct * size) / (size * (1 - test_pct))\n",
    "    train_val, test = train_test_split(df, test_size=test_pct)\n",
    "    train, val = train_test_split(train_val, test_size=val_pct)\n",
    "    return train, val, test\n",
    "\n",
    "\n",
    "def serialize_dataset(dataset):\n",
    "    for k,v in dataset.items():\n",
    "        out_filename = os.path.join(os.getcwd(), \"data\", k, k + \"_data.csv\")\n",
    "        v.to_csv(out_filename, sep=\",\", index=False)\n",
    "        print(\"Writing \" + k + \" to \" + out_filename + \" Shape:\" + str(v.shape))\n",
    "\n",
    "\n",
    "def main():\n",
    "    df = pd.read_csv(\"./data/winequality-white.csv\", sep=\";\")\n",
    "    create_data_dirs()\n",
    "    dataset = dict()\n",
    "    dataset[\"train\"], dataset[\"val\"], dataset[\"test\"] = train_val_test_split(df)\n",
    "    serialize_dataset(dataset)\n",
    "\n",
    "\n",
    "if __name__ == \"__main__\":\n",
    "    main()\n"
   ]
  },
  {
   "cell_type": "code",
   "execution_count": null,
   "metadata": {},
   "outputs": [],
   "source": []
  }
 ],
 "metadata": {
  "kernelspec": {
   "display_name": "Python 3",
   "language": "python",
   "name": "python3"
  },
  "language_info": {
   "codemirror_mode": {
    "name": "ipython",
    "version": 3
   },
   "file_extension": ".py",
   "mimetype": "text/x-python",
   "name": "python",
   "nbconvert_exporter": "python",
   "pygments_lexer": "ipython3",
   "version": "3.6.8"
  }
 },
 "nbformat": 4,
 "nbformat_minor": 2
}
