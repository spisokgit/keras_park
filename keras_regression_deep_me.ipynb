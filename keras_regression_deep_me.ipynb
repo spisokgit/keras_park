{
 "cells": [
  {
   "cell_type": "code",
   "execution_count": 1,
   "metadata": {},
   "outputs": [],
   "source": [
    "# # Deep Learning Quick Reference Chapter 2: Using Deep Learning To Solve Regression Problems\n",
    "# # Mike Bernico <mike.bernico@gmail.com>\n",
    "\n",
    "# # random seed setting for reproducibility\n",
    "from numpy.random import seed\n",
    "seed(42)\n",
    "# from tensorflow import set_random_seed\n",
    "# set_random_seed(42)"
   ]
  },
  {
   "cell_type": "code",
   "execution_count": 2,
   "metadata": {},
   "outputs": [
    {
     "name": "stderr",
     "output_type": "stream",
     "text": [
      "Using TensorFlow backend.\n"
     ]
    }
   ],
   "source": [
    "import pandas as pd\n",
    "from sklearn.preprocessing import StandardScaler\n",
    "from keras.models import Model\n",
    "                        #Sequential\n",
    "from keras.layers import Input, Dense\n",
    "from sklearn.metrics import mean_absolute_error\n",
    "import seaborn as sns\n",
    "from matplotlib import pyplot as plt    # import matplotlib.pyplot as plt\n",
    "%matplotlib inline\n",
    "from keras.models import load_model\n",
    "from keras.callbacks import TensorBoard"
   ]
  },
  {
   "cell_type": "code",
   "execution_count": 3,
   "metadata": {},
   "outputs": [],
   "source": [
    "TRAIN_DATA = \"./data/train/train_data.csv\"\n",
    "VAL_DATA = \"./data/val/val_data.csv\"\n",
    "TEST_DATA = \"./data/test/test_data.csv\"\n",
    "\n",
    "def load_data():\n",
    "    \"\"\"Loads train, val, and test datasets from disk\"\"\"\n",
    "    train = pd.read_csv(TRAIN_DATA)\n",
    "    val = pd.read_csv(VAL_DATA)\n",
    "    test = pd.read_csv(TEST_DATA)\n",
    "\n",
    "    # we will use sklearn's StandardScaler to scale our data to 0 mean, unit variance.\n",
    "    scaler = StandardScaler()\n",
    "    train = scaler.fit_transform(train)\n",
    "    val = scaler.transform(val)\n",
    "    test = scaler.transform(test)\n",
    "    # we will use a dict to keep all this data tidy.\n",
    "    data = dict()\n",
    "\n",
    "    data[\"train_y\"] = train[:, 10]\n",
    "    data[\"train_X\"] = train[:, 0:9]\n",
    "    data[\"val_y\"] = val[:, 10]\n",
    "    data[\"val_X\"] = val[:, 0:9]\n",
    "    data[\"test_y\"] = test[:, 10]\n",
    "    data[\"test_X\"] = test[:, 0:9]\n",
    "    # it's a good idea to keep the scaler (or at least the mean/variance) so we can unscale predictions\n",
    "    data[\"scaler\"] = scaler\n",
    "    return data"
   ]
  },
  {
   "cell_type": "code",
   "execution_count": 4,
   "metadata": {},
   "outputs": [],
   "source": [
    "# keras_김태영\n",
    "\n",
    "# # 1. 데이터셋 준비하기\n",
    "# x_train = np.random.random((1000, 12))\n",
    "# y_train = np.random.randint(10, size=(1000, 1))\n",
    "# y_train = to_categorical(y_train, num_classes=10) # one-hot 인코딩\n",
    "# x_test = np.random.random((100, 12))\n",
    "# y_test = np.random.randint(10, size=(100, 1))\n",
    "# y_test = to_categorical(y_test, num_classes=10) # one-hot 인코딩\n",
    "\n",
    "# # 2. 모델 구성하기\n",
    "# model = Sequential()\n",
    "# model.add(Dense(64, input_dim=12, activation='relu'))\n",
    "# model.add(Dense(64, activation='relu'))\n",
    "# model.add(Dense(10, activation='softmax'))\n",
    "\n",
    "# # 3. 모델 학습과정 설정하기\n",
    "# model.compile(optimizer='rmsprop', loss='categorical_crossentropy', metrics=['accuracy'])"
   ]
  },
  {
   "cell_type": "code",
   "execution_count": 4,
   "metadata": {},
   "outputs": [],
   "source": [
    "def build_network(input_features=None):\n",
    "    # first we specify an input layer, with a shape == features\n",
    "    inputs = Input(shape=(input_features,), name=\"input\")\n",
    "    # 32 neuron hidden layer\n",
    "    x = Dense(32, activation='relu', name=\"hidden\")(inputs)\n",
    "    x = Dense(32, activation='relu', name=\"hidden2\")(x)\n",
    "    x = Dense(32, activation='relu', name=\"hidden3\")(x)\n",
    "    x = Dense(32, activation='relu', name=\"hidden4\")(x)\n",
    "    x = Dense(16, activation='relu', name=\"hidden5\")(x)\n",
    "    # for regression we will use a single neuron with linear (no) activation\n",
    "    prediction = Dense(1, activation='linear', name=\"final\")(x)\n",
    "\n",
    "    model = Model(inputs=inputs, outputs=prediction)\n",
    "    model.compile(optimizer='adam', loss='mean_absolute_error', metrics=['accuracy']) # softmax 없음 => accuracy 없음\n",
    "    return model"
   ]
  },
  {
   "cell_type": "code",
   "execution_count": 5,
   "metadata": {},
   "outputs": [],
   "source": [
    "def create_callbacks(): \n",
    "    tensorboard_callback = TensorBoard(log_dir='/root/ch3_tb_log/mlp', histogram_freq=1, batch_size=32,\n",
    "                                       write_graph=True, write_grads=False)\n",
    "\n",
    "    return [tensorboard_callback]\n",
    "# tensorboard는 log_dir 위치를  mkdir 위치로 맞추고, --bind_all 옵션을 주어야 크롬에서 나타남\n",
    "# container root>tensorboard --logdir /root/ch3_tb_log/mlp --port 6006 --bind_all\n",
    "# 크롬 url ==>  127.0.0.1:6006\n",
    "#     tensorboard_callback = TensorBoard(log_dir=os.path.join(os.getcwd(), \"tb_log\", \"5h_adam_20epochs\"), histogram_freq=1, batch_size=32,\n",
    "#                                        write_graph=True, write_grads=False)"
   ]
  },
  {
   "cell_type": "code",
   "execution_count": 6,
   "metadata": {},
   "outputs": [],
   "source": [
    " def main():\n",
    "    data = load_data()\n",
    "\n",
    "    # Network with single 32 neuron hidden layer...\n",
    "    input_features = data[\"train_X\"].shape[1]\n",
    "    model = build_network(input_features=input_features)\n",
    "    print(\"Network Structure\")\n",
    "    print(model.summary())\n",
    "    print(\"Training Data Shape: \" + str(data[\"train_X\"].shape))\n",
    "    \n",
    "    callbacks=create_callbacks()\n",
    "    hist=model.fit(x=data[\"train_X\"], y=data[\"train_y\"], batch_size=32, epochs=30, verbose=1,\n",
    "              validation_data=(data[\"val_X\"], data[\"val_y\"]), callbacks=callbacks)\n",
    "    # sklearn metrics 함수 이용\n",
    "    print(\"Model Train MAE: \" + str(mean_absolute_error(data[\"train_y\"], model.predict(data[\"train_X\"]))))\n",
    "    print(\"Model Val MAE: \" + str(mean_absolute_error(data[\"val_y\"], model.predict(data[\"val_X\"]))))\n",
    "    \n",
    "    #학습과정 살펴보기\n",
    "    fig, loss_ax = plt.subplots()\n",
    "    acc_ax = loss_ax.twinx()\n",
    "    loss_ax.set_ylim([0.0, 3.0])\n",
    "    acc_ax.set_ylim([0.0, 1.0])\n",
    "\n",
    "    loss_ax.plot(hist.history['loss'], 'y', label='train loss')\n",
    "    acc_ax.plot(hist.history['accuracy'], 'b', label='train acc')\n",
    "    \n",
    "    loss_ax.plot(hist.history['val_loss'], 'r', label='val_loss')\n",
    "    acc_ax.plot(hist.history['val_accuracy'], 'g', label='val_acc')\n",
    "\n",
    "    loss_ax.set_xlabel('epoch')\n",
    "    loss_ax.set_ylabel('loss')\n",
    "    acc_ax.set_ylabel('accuray')\n",
    "\n",
    "    loss_ax.legend(loc='upper left')\n",
    "    acc_ax.legend(loc='lower left')\n",
    "\n",
    "    plt.show()\n",
    "    \n",
    "    # an example of saving the model for later use\n",
    "    model.save(\"regression_model.h5\")\n",
    "    # use model = model.load(\"regression_model.h5\") to load"
   ]
  },
  {
   "cell_type": "code",
   "execution_count": 7,
   "metadata": {},
   "outputs": [
    {
     "name": "stdout",
     "output_type": "stream",
     "text": [
      "Network Structure\n",
      "Model: \"model_1\"\n",
      "_________________________________________________________________\n",
      "Layer (type)                 Output Shape              Param #   \n",
      "=================================================================\n",
      "input (InputLayer)           (None, 9)                 0         \n",
      "_________________________________________________________________\n",
      "hidden (Dense)               (None, 32)                320       \n",
      "_________________________________________________________________\n",
      "hidden2 (Dense)              (None, 32)                1056      \n",
      "_________________________________________________________________\n",
      "hidden3 (Dense)              (None, 32)                1056      \n",
      "_________________________________________________________________\n",
      "hidden4 (Dense)              (None, 32)                1056      \n",
      "_________________________________________________________________\n",
      "hidden5 (Dense)              (None, 16)                528       \n",
      "_________________________________________________________________\n",
      "final (Dense)                (None, 1)                 17        \n",
      "=================================================================\n",
      "Total params: 4,033\n",
      "Trainable params: 4,033\n",
      "Non-trainable params: 0\n",
      "_________________________________________________________________\n",
      "None\n",
      "Training Data Shape: (3918, 9)\n"
     ]
    },
    {
     "name": "stderr",
     "output_type": "stream",
     "text": [
      "/usr/local/lib/python3.6/dist-packages/keras/callbacks/tensorboard_v2.py:92: UserWarning: The TensorBoard callback `batch_size` argument (for histogram computation) is deprecated with TensorFlow 2.0. It will be ignored.\n",
      "  warnings.warn('The TensorBoard callback `batch_size` argument '\n"
     ]
    },
    {
     "name": "stdout",
     "output_type": "stream",
     "text": [
      "Train on 3918 samples, validate on 490 samples\n",
      "Epoch 1/30\n",
      " 480/3918 [==>...........................] - ETA: 34s - loss: 0.8040 - accuracy: 0.0000e+00"
     ]
    },
    {
     "name": "stderr",
     "output_type": "stream",
     "text": [
      "/usr/local/lib/python3.6/dist-packages/keras/callbacks/callbacks.py:95: RuntimeWarning: Method (on_train_batch_end) is slow compared to the batch update (0.372059). Check your callbacks.\n",
      "  % (hook_name, delta_t_median), RuntimeWarning)\n",
      "/usr/local/lib/python3.6/dist-packages/keras/callbacks/callbacks.py:95: RuntimeWarning: Method (on_train_batch_end) is slow compared to the batch update (0.133615). Check your callbacks.\n",
      "  % (hook_name, delta_t_median), RuntimeWarning)\n"
     ]
    },
    {
     "name": "stdout",
     "output_type": "stream",
     "text": [
      "3918/3918 [==============================] - 7s 2ms/step - loss: 0.4836 - accuracy: 0.0000e+00 - val_loss: 0.3519 - val_accuracy: 0.0000e+00\n",
      "Epoch 2/30\n",
      "3918/3918 [==============================] - 2s 485us/step - loss: 0.3064 - accuracy: 0.0000e+00 - val_loss: 0.2908 - val_accuracy: 0.0000e+00\n",
      "Epoch 3/30\n",
      "3918/3918 [==============================] - 2s 472us/step - loss: 0.2637 - accuracy: 0.0000e+00 - val_loss: 0.2555 - val_accuracy: 0.0000e+00\n",
      "Epoch 4/30\n",
      "3918/3918 [==============================] - 2s 467us/step - loss: 0.2390 - accuracy: 0.0000e+00 - val_loss: 0.2519 - val_accuracy: 0.0000e+00\n",
      "Epoch 5/30\n",
      "3918/3918 [==============================] - 2s 471us/step - loss: 0.2272 - accuracy: 0.0000e+00 - val_loss: 0.2499 - val_accuracy: 0.0000e+00\n",
      "Epoch 6/30\n",
      "3918/3918 [==============================] - 2s 493us/step - loss: 0.2201 - accuracy: 0.0000e+00 - val_loss: 0.2487 - val_accuracy: 0.0000e+00\n",
      "Epoch 7/30\n",
      "3918/3918 [==============================] - 2s 488us/step - loss: 0.2144 - accuracy: 0.0000e+00 - val_loss: 0.2329 - val_accuracy: 0.0000e+00\n",
      "Epoch 8/30\n",
      "3918/3918 [==============================] - 2s 489us/step - loss: 0.2113 - accuracy: 0.0000e+00 - val_loss: 0.2409 - val_accuracy: 0.0000e+00\n",
      "Epoch 9/30\n",
      "3918/3918 [==============================] - 2s 485us/step - loss: 0.2074 - accuracy: 0.0000e+00 - val_loss: 0.2412 - val_accuracy: 0.0000e+00\n",
      "Epoch 10/30\n",
      "3918/3918 [==============================] - 2s 480us/step - loss: 0.2025 - accuracy: 0.0000e+00 - val_loss: 0.2345 - val_accuracy: 0.0000e+00\n",
      "Epoch 11/30\n",
      "3918/3918 [==============================] - 2s 490us/step - loss: 0.2036 - accuracy: 0.0000e+00 - val_loss: 0.2341 - val_accuracy: 0.0000e+00\n",
      "Epoch 12/30\n",
      "3918/3918 [==============================] - 2s 509us/step - loss: 0.1971 - accuracy: 0.0000e+00 - val_loss: 0.2287 - val_accuracy: 0.0000e+00\n",
      "Epoch 13/30\n",
      "3918/3918 [==============================] - 2s 487us/step - loss: 0.1992 - accuracy: 0.0000e+00 - val_loss: 0.2233 - val_accuracy: 0.0000e+00\n",
      "Epoch 14/30\n",
      "3918/3918 [==============================] - 2s 502us/step - loss: 0.1964 - accuracy: 0.0000e+00 - val_loss: 0.2250 - val_accuracy: 0.0000e+00\n",
      "Epoch 15/30\n",
      "3918/3918 [==============================] - 2s 480us/step - loss: 0.1917 - accuracy: 0.0000e+00 - val_loss: 0.2207 - val_accuracy: 0.0000e+00\n",
      "Epoch 16/30\n",
      "3918/3918 [==============================] - 2s 484us/step - loss: 0.1923 - accuracy: 0.0000e+00 - val_loss: 0.2213 - val_accuracy: 0.0000e+00\n",
      "Epoch 17/30\n",
      "3918/3918 [==============================] - 2s 477us/step - loss: 0.1899 - accuracy: 0.0000e+00 - val_loss: 0.2181 - val_accuracy: 0.0000e+00\n",
      "Epoch 18/30\n",
      "3918/3918 [==============================] - 2s 478us/step - loss: 0.1868 - accuracy: 0.0000e+00 - val_loss: 0.2235 - val_accuracy: 0.0000e+00\n",
      "Epoch 19/30\n",
      "3918/3918 [==============================] - 2s 486us/step - loss: 0.1863 - accuracy: 0.0000e+00 - val_loss: 0.2131 - val_accuracy: 0.0000e+00\n",
      "Epoch 20/30\n",
      "3918/3918 [==============================] - 2s 488us/step - loss: 0.1844 - accuracy: 0.0000e+00 - val_loss: 0.2201 - val_accuracy: 0.0000e+00\n",
      "Epoch 21/30\n",
      "3918/3918 [==============================] - 2s 478us/step - loss: 0.1839 - accuracy: 0.0000e+00 - val_loss: 0.2125 - val_accuracy: 0.0000e+00\n",
      "Epoch 22/30\n",
      "3918/3918 [==============================] - 2s 486us/step - loss: 0.1823 - accuracy: 0.0000e+00 - val_loss: 0.2126 - val_accuracy: 0.0000e+00\n",
      "Epoch 23/30\n",
      "3918/3918 [==============================] - 2s 485us/step - loss: 0.1785 - accuracy: 0.0000e+00 - val_loss: 0.2129 - val_accuracy: 0.0000e+00\n",
      "Epoch 24/30\n",
      "3918/3918 [==============================] - 2s 494us/step - loss: 0.1775 - accuracy: 0.0000e+00 - val_loss: 0.2257 - val_accuracy: 0.0000e+00\n",
      "Epoch 25/30\n",
      "3918/3918 [==============================] - 2s 504us/step - loss: 0.1779 - accuracy: 0.0000e+00 - val_loss: 0.2193 - val_accuracy: 0.0000e+00\n",
      "Epoch 26/30\n",
      "3918/3918 [==============================] - 2s 488us/step - loss: 0.1757 - accuracy: 0.0000e+00 - val_loss: 0.2176 - val_accuracy: 0.0000e+00\n",
      "Epoch 27/30\n",
      "3918/3918 [==============================] - 2s 506us/step - loss: 0.1761 - accuracy: 0.0000e+00 - val_loss: 0.2127 - val_accuracy: 0.0000e+00\n",
      "Epoch 28/30\n",
      "3918/3918 [==============================] - 2s 511us/step - loss: 0.1770 - accuracy: 0.0000e+00 - val_loss: 0.2213 - val_accuracy: 0.0000e+00\n",
      "Epoch 29/30\n",
      "3918/3918 [==============================] - 2s 530us/step - loss: 0.1741 - accuracy: 0.0000e+00 - val_loss: 0.2246 - val_accuracy: 0.0000e+00\n",
      "Epoch 30/30\n",
      "3918/3918 [==============================] - 2s 500us/step - loss: 0.1745 - accuracy: 0.0000e+00 - val_loss: 0.2047 - val_accuracy: 0.0000e+00\n",
      "Model Train MAE: 0.1604716143665494\n",
      "Model Val MAE: 0.20465463439244042\n"
     ]
    },
    {
     "data": {
      "image/png": "[encoded data removed]",
      "text/plain": [
       "<Figure size 432x288 with 2 Axes>"
      ]
     },
     "metadata": {
      "needs_background": "light"
     },
     "output_type": "display_data"
    }
   ],
   "source": [
    "main()"
   ]
  },
  {
   "cell_type": "code",
   "execution_count": 9,
   "metadata": {},
   "outputs": [],
   "source": [
    "# # 5. 김태영keras 학습과정 살펴보기\n",
    "# def hist_plot():\n",
    "#     hist=load_model(\"regression_model.h5\")\n",
    "#     fig, loss_ax = plt.subplots()\n",
    "#     acc_ax = loss_ax.twinx()\n",
    "#     loss_ax.set_ylim([0.0, 3.0])\n",
    "#     acc_ax.set_ylim([0.0, 1.0])\n",
    "\n",
    "#     loss_ax.plot(hist.history['loss'], 'y', label='train loss')  # 'Model' object has no attribute 'history'\n",
    "#     acc_ax.plot(hist.history['accuracy'], 'b', label='train acc')\n",
    "#     loss_ax.plot(hist.history['val_loss'], 'r', label='val_loss')\n",
    "#     acc_ax.plot(hist.history['val_accuracy'], 'g', label='val_acc')\n",
    "\n",
    "#     loss_ax.set_xlabel('epoch')\n",
    "#     loss_ax.set_ylabel('loss')\n",
    "#     acc_ax.set_ylabel('accuray')\n",
    "#     loss_ax.legend(loc='upper left')\n",
    "#     acc_ax.legend(loc='lower left')\n",
    "#     plt.show()\n",
    "# hist_plot()"
   ]
  },
  {
   "cell_type": "code",
   "execution_count": 8,
   "metadata": {},
   "outputs": [
    {
     "name": "stdout",
     "output_type": "stream",
     "text": [
      "Model Test MAE: 0.2074264144288624\n"
     ]
    },
    {
     "data": {
      "image/png": "[encoded data removed]",
      "text/plain": [
       "<Figure size 432x288 with 1 Axes>"
      ]
     },
     "metadata": {
      "needs_background": "light"
     },
     "output_type": "display_data"
    }
   ],
   "source": [
    "# 6. 모델 평가하기(error)\n",
    "def model_eval():\n",
    "    data = load_data()\n",
    "    \n",
    "    model=load_model(\"regression_model.h5\")\n",
    "\n",
    "#     loss_and_metrics = model.evaluate(test_X, test_y, batch_size=32) # NameError: name 'test_X' is not defined\n",
    "#     print('loss_and_metrics : ' + str(loss_and_metrics))\n",
    "    \n",
    "    print(\"Model Test MAE: \" + str(mean_absolute_error(data[\"test_y\"], model.predict(data[\"test_X\"]))))   \n",
    "\n",
    "    plt.title(\"Predicted Distribution vs. Actual\")\n",
    "    y_hat = model.predict(data[\"test_X\"])\n",
    "    sns.distplot(y_hat.flatten(), label=\"y_hat\")\n",
    "    sns.distplot(data[\"test_y\"], label=\"y_true\")\n",
    "    plt.legend()\n",
    "    plt.savefig(\"pred_dist_deep_me.jpg\")\n",
    "    \n",
    "model_eval()\n"
   ]
  },
  {
   "cell_type": "code",
   "execution_count": null,
   "metadata": {},
   "outputs": [],
   "source": []
  }
 ],
 "metadata": {
  "kernelspec": {
   "display_name": "Python 3",
   "language": "python",
   "name": "python3"
  },
  "language_info": {
   "codemirror_mode": {
    "name": "ipython",
    "version": 3
   },
   "file_extension": ".py",
   "mimetype": "text/x-python",
   "name": "python",
   "nbconvert_exporter": "python",
   "pygments_lexer": "ipython3",
   "version": "3.6.8"
  }
 },
 "nbformat": 4,
 "nbformat_minor": 2
}
